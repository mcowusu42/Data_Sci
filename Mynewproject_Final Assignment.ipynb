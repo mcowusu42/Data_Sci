{
 "cells": [
  {
   "cell_type": "markdown",
   "id": "a1b71800-dce5-48a8-96c1-fd6930673baf",
   "metadata": {},
   "source": [
    "# My Jupyter Notebook on IBM Watson Studio"
   ]
  },
  {
   "cell_type": "markdown",
   "id": "c9b8b8df-a188-4ef2-a037-3a8af9bd6693",
   "metadata": {},
   "source": [
    "**MARK OWUSU** \n",
    "Data Analyst"
   ]
  },
  {
   "cell_type": "markdown",
   "id": "a3713183-b835-477e-b29c-0627f5a16661",
   "metadata": {},
   "source": [
    "*I am interested in Data Science because I want to gain new skills that will allow me to leverage data to aid companies with their business strategies, and explore exciting new fields developing from within data science fields like artificial intelligence, machine learning, and big data.*"
   ]
  },
  {
   "cell_type": "markdown",
   "id": "7b792d46-9b6a-41f9-8eb3-9f34f5b5c8cd",
   "metadata": {},
   "source": [
    "### This code is meant to add one and two to get three in [5]"
   ]
  },
  {
   "cell_type": "code",
   "execution_count": 1,
   "id": "d4630e83-4633-44db-8121-a1fac96c7613",
   "metadata": {},
   "outputs": [
    {
     "name": "stdout",
     "output_type": "stream",
     "text": [
      "3\n"
     ]
    }
   ],
   "source": [
    "one = 1\n",
    "two = 2\n",
    "print(one + two)"
   ]
  },
  {
   "cell_type": "markdown",
   "id": "23c9fa47-4122-43ad-ba3b-2010afe031e0",
   "metadata": {},
   "source": [
    "- Data Science\n",
    "- Data Science\n",
    "- Data Science\n",
    "\n",
    "\n",
    "*** \n",
    "\n",
    "1. Data Science\n",
    "1. Data Science\n",
    "1. Data Science\n"
   ]
  },
  {
   "cell_type": "code",
   "execution_count": null,
   "id": "d6216c95-0a6e-4a57-bf2f-56117e603769",
   "metadata": {},
   "outputs": [],
   "source": []
  }
 ],
 "metadata": {
  "kernelspec": {
   "display_name": "Python",
   "language": "python",
   "name": "conda-env-python-py"
  },
  "language_info": {
   "codemirror_mode": {
    "name": "ipython",
    "version": 3
   },
   "file_extension": ".py",
   "mimetype": "text/x-python",
   "name": "python",
   "nbconvert_exporter": "python",
   "pygments_lexer": "ipython3",
   "version": "3.7.12"
  }
 },
 "nbformat": 4,
 "nbformat_minor": 5
}
